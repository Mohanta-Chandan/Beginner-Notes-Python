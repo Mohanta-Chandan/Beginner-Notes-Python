{
 "cells": [
  {
   "cell_type": "code",
   "execution_count": null,
   "metadata": {},
   "outputs": [],
   "source": [
    "# mapping: (using 1 argument)\n",
    "def function1(x):\n",
    "    return 2*x\n",
    "print(function1(2))\n",
    "print(function1('abc'))"
   ]
  },
  {
   "cell_type": "code",
   "execution_count": null,
   "metadata": {},
   "outputs": [],
   "source": [
    "# mapping: (using 2 argument)\n",
    "def function2(a,b):\n",
    "    return a+b\n",
    "print(function2(2,3))\n",
    "print(function2('x','y'))"
   ]
  },
  {
   "cell_type": "code",
   "execution_count": null,
   "metadata": {
    "scrolled": true
   },
   "outputs": [],
   "source": [
    "#another ex.:\n",
    "def function3(x):\n",
    "    print(x)\n",
    "    print('still in function')\n",
    "    return 4*x\n",
    "print(function3(6))\n",
    "print(function3('q'))"
   ]
  },
  {
   "cell_type": "code",
   "execution_count": 8,
   "metadata": {},
   "outputs": [
    {
     "name": "stdout",
     "output_type": "stream",
     "text": [
      "[-1, 3, 5, 1, 'z', [1, 2]]\n"
     ]
    }
   ],
   "source": [
    "# LIST:\n",
    "#append list\n",
    "a = [-1,3,5]\n",
    "a.append(1) #added 1 in the list\n",
    "a.append('z')#added 'z' in the list\n",
    "a.append([1,2])\n",
    "print(a)"
   ]
  },
  {
   "cell_type": "code",
   "execution_count": 12,
   "metadata": {},
   "outputs": [
    {
     "name": "stdout",
     "output_type": "stream",
     "text": [
      "[1, 2, 3]\n"
     ]
    }
   ],
   "source": [
    "# pop list\n",
    "a = [1,2,3,['ab','cd']]\n",
    "a.pop()\n",
    "print(a)"
   ]
  },
  {
   "cell_type": "code",
   "execution_count": 13,
   "metadata": {
    "scrolled": true
   },
   "outputs": [
    {
     "name": "stdout",
     "output_type": "stream",
     "text": [
      "['c', 2, 4, 1]\n"
     ]
    }
   ],
   "source": [
    "#swap 1st and last item of  given string: (using 2 variables)\n",
    "a = [1,2,4,'c']\n",
    "temp1 = a[0]\n",
    "temp2 = a[3]\n",
    "a[0] = temp2\n",
    "a[3] = temp1\n",
    "print(a)"
   ]
  },
  {
   "cell_type": "code",
   "execution_count": 14,
   "metadata": {},
   "outputs": [
    {
     "name": "stdout",
     "output_type": "stream",
     "text": [
      "['c', 2, 4, 1]\n"
     ]
    }
   ],
   "source": [
    "#swap 1st and last item of  given string: (using 1 variables)\n",
    "a = [1,2,4,'c']\n",
    "temp1 = a[0]\n",
    "a[0] = a[3]\n",
    "a[3] = temp1\n",
    "print(a)"
   ]
  },
  {
   "cell_type": "code",
   "execution_count": null,
   "metadata": {},
   "outputs": [],
   "source": []
  }
 ],
 "metadata": {
  "kernelspec": {
   "display_name": "Python 3",
   "language": "python",
   "name": "python3"
  },
  "language_info": {
   "codemirror_mode": {
    "name": "ipython",
    "version": 3
   },
   "file_extension": ".py",
   "mimetype": "text/x-python",
   "name": "python",
   "nbconvert_exporter": "python",
   "pygments_lexer": "ipython3",
   "version": "3.7.3"
  }
 },
 "nbformat": 4,
 "nbformat_minor": 2
}
