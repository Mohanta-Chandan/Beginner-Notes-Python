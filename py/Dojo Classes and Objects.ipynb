{
 "cells": [
  {
   "cell_type": "code",
   "execution_count": null,
   "metadata": {},
   "outputs": [],
   "source": [
    "class Robot:\n",
    "    def introduce_self(self):  #self is argument\n",
    "        print('My name is: '+ self.name) #here, self will take name from objects below.\n",
    "        \n",
    "r1 = Robot() #using default constructor for class Robot\n",
    "r1.name = 'Tom'\n",
    "r1.colour = 'Red'\n",
    "r1.weight = 30\n",
    "\n",
    "r2 = Robot()\n",
    "r2.name = 'Jerry'\n",
    "r2.colour = 'Blue'\n",
    "r2.weight = 40\n",
    "\n",
    "r1.introduce_self()\n",
    "r2.introduce_self()\n"
   ]
  },
  {
   "cell_type": "code",
   "execution_count": 7,
   "metadata": {
    "scrolled": true
   },
   "outputs": [
    {
     "name": "stdout",
     "output_type": "stream",
     "text": [
      "My name is Tom\n",
      "My Colour is red\n",
      "My weight is 30\n",
      "_________________\n",
      "My name is Jerry\n",
      "My Colour is blue\n",
      "My weight is 40\n",
      "_________________\n"
     ]
    }
   ],
   "source": [
    "class Robot:\n",
    "    def __init__(self, name, colour, weight):\n",
    "        self.name = name\n",
    "        self.colour = colour\n",
    "        self.weight = weight\n",
    "\n",
    "    def introduce_self(self):\n",
    "        print(\"My name is \" + self.name)\n",
    "        print('My Colour is ' + self.colour)\n",
    "        print('My weight is ' + self.weight)\n",
    "        print('_________________')\n",
    "        \n",
    "r1 = Robot(\"Tom\", \"red\", \"30\")\n",
    "r2 = Robot(\"Jerry\", \"blue\", \"40\")\n",
    "    \n",
    "r1.introduce_self()\n",
    "r2.introduce_self()"
   ]
  },
  {
   "cell_type": "code",
   "execution_count": 6,
   "metadata": {},
   "outputs": [
    {
     "name": "stdout",
     "output_type": "stream",
     "text": [
      "My name is Tom\n",
      "My Colour is Red\n",
      "My weight is 30\n",
      "_________________\n",
      "My name is Jerry\n",
      "My Colour is blue\n",
      "My weight is 40\n",
      "_________________\n",
      "My name is Jerry\n",
      "My Colour is blue\n",
      "My weight is 40\n",
      "_________________\n",
      "My name is Tom\n",
      "My Colour is Red\n",
      "My weight is 30\n",
      "_________________\n"
     ]
    }
   ],
   "source": [
    "class Robot:\n",
    "    def __init__(self, n, c, w):\n",
    "        self.name = n\n",
    "        self.colour = c\n",
    "        self.weight = w\n",
    "        \n",
    "    def introduce_self(self):\n",
    "        print(\"My name is \" + self.name)\n",
    "        print('My Colour is ' + self.colour)\n",
    "        print('My weight is ' + self.weight)\n",
    "        print('_________________')\n",
    "\n",
    "r1 = Robot('Tom','Red','30')\n",
    "r2 = Robot(\"Jerry\", \"blue\", \"40\")\n",
    "\n",
    "r1.introduce_self()\n",
    "r2.introduce_self()\n",
    "\n",
    "class Person:\n",
    "    def __init__(self, n, p, i):\n",
    "        self.name = n\n",
    "        self.personality = p\n",
    "        self.isemployed = i\n",
    "        \n",
    "    def go_school(self):\n",
    "        self.isemployed = False\n",
    "    def go_office(self):\n",
    "        self.isemployed = True\n",
    "\n",
    "p1 = Person('Ram', 'All rounder', True)\n",
    "p2 = Person('Narayan', 'Open', False)\n",
    "\n",
    "#here, person p1 own robot r2 and person p2 own robot r1\n",
    "p1.robot_owned = r2 #created a new attribute in class person- robot_owned\n",
    "p2.robot_owned = r1\n",
    "\n",
    "p1.robot_owned.introduce_self() #calls and print from function introduce_self\n",
    "p2.robot_owned.introduce_self()"
   ]
  },
  {
   "cell_type": "code",
   "execution_count": null,
   "metadata": {},
   "outputs": [],
   "source": []
  }
 ],
 "metadata": {
  "kernelspec": {
   "display_name": "Python 3",
   "language": "python",
   "name": "python3"
  },
  "language_info": {
   "codemirror_mode": {
    "name": "ipython",
    "version": 3
   },
   "file_extension": ".py",
   "mimetype": "text/x-python",
   "name": "python",
   "nbconvert_exporter": "python",
   "pygments_lexer": "ipython3",
   "version": "3.7.3"
  }
 },
 "nbformat": 4,
 "nbformat_minor": 2
}
