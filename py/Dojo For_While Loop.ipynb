{
 "cells": [
  {
   "cell_type": "code",
   "execution_count": null,
   "metadata": {},
   "outputs": [],
   "source": [
    "a = [1,2,3,4,5,'ab','de',[1,2],['ve','eu']]\n",
    "for e in a: #it says print all elements of list a\n",
    "    print(e)"
   ]
  },
  {
   "cell_type": "code",
   "execution_count": null,
   "metadata": {},
   "outputs": [],
   "source": [
    "a = [1,2,4,6,7]\n",
    "sum = 0\n",
    "for e in a:\n",
    "    sum = sum + e #initially sum=0; then one one element of a was added till loop ends. so it gives sum\n",
    "print(sum)"
   ]
  },
  {
   "cell_type": "code",
   "execution_count": null,
   "metadata": {},
   "outputs": [],
   "source": [
    "# sum of numbers from 1 to 100.\n",
    "a = list(range(1,101)) #range excludes last number.\n",
    "sum = 0\n",
    "for e in a:\n",
    "    sum = sum + e\n",
    "print(sum)"
   ]
  },
  {
   "cell_type": "code",
   "execution_count": null,
   "metadata": {},
   "outputs": [],
   "source": [
    "# find sum of multiples of 3 between 1-100 :\n",
    "a = list(range(1,101))\n",
    "sum3 = 0\n",
    "for i in a:\n",
    "    if i%3 == 0:\n",
    "        sum3 = sum3+i #give indentation after if statement\n",
    "print(sum3)"
   ]
  },
  {
   "cell_type": "code",
   "execution_count": null,
   "metadata": {
    "scrolled": true
   },
   "outputs": [],
   "source": [
    "#sum of all multiples of 3,5 which are less than 100\n",
    "a = list(range(1,101))\n",
    "sum3 = 0\n",
    "sum5 = 0\n",
    "for i in a:\n",
    "    if i%3 == 0:\n",
    "        sum3 = sum3+i\n",
    "print('sum of multiple of 3 is:',sum3) #go out of loop\n",
    "for j in a:\n",
    "    if j%5 == 0:\n",
    "        sum5 = sum5+j\n",
    "print('sum of multiple of 5 is:',sum5) #go out of loop\n",
    "print('sum of multiple of 3 and 5:',sum3+sum5)        "
   ]
  },
  {
   "cell_type": "code",
   "execution_count": null,
   "metadata": {
    "scrolled": true
   },
   "outputs": [],
   "source": [
    "#print sum of 1st 100 numbers:\n",
    "total = 0\n",
    "j = 1 #j is initialised\n",
    "while j < 101: #in while loop j need to be initialised before. in for loop variable can be initialised directily.\n",
    "    total = total+j\n",
    "    j = j + 1\n",
    "print(total)"
   ]
  },
  {
   "cell_type": "code",
   "execution_count": null,
   "metadata": {},
   "outputs": [],
   "source": [
    "# below is situation where we have a list.\n",
    "# in list we dont know what are the contents; but we do know that the values are in descending order.\n",
    "# We need to find the sum of +ve integers only.\n",
    "# here using for loops will be diffecult.\n",
    "\n",
    "given_list = [5,4,4,2,2,1,-1,-2,-3,-3,-9]\n",
    "total = 0\n",
    "i = 0\n",
    "while given_list[i] > 0:\n",
    "    total = total + given_list[i]\n",
    "    i = i + 1\n",
    "print(total)"
   ]
  },
  {
   "cell_type": "code",
   "execution_count": 3,
   "metadata": {},
   "outputs": [
    {
     "name": "stdout",
     "output_type": "stream",
     "text": [
      "23\n"
     ]
    }
   ],
   "source": [
    "# find sum of +ve integers from a list: using for loop and break statement\n",
    "list2 = [5,5,4,2,3,3,1,-2,-1,-4,-4,-7]\n",
    "total2 = 0\n",
    "for i in list2:\n",
    "    if list2[i] < 0:\n",
    "        break #break statement: break when found -ve integer\n",
    "    total2 = total2 + i\n",
    "print(total2)"
   ]
  },
  {
   "cell_type": "code",
   "execution_count": 4,
   "metadata": {},
   "outputs": [
    {
     "name": "stdout",
     "output_type": "stream",
     "text": [
      "23\n"
     ]
    }
   ],
   "source": [
    "# find sum of +ve integers from a list: using while loop and break statement\n",
    "list3 = [5,5,4,2,3,3,1,-2,-1,-4,-4,-7]\n",
    "total3 = 0\n",
    "i = 0\n",
    "while True: #we write a true fact statement after while\n",
    "    total3 = total3 + list3[i]\n",
    "    i = i+1\n",
    "    if list3[i] <= 0:\n",
    "        break\n",
    "print(total3)"
   ]
  }
 ],
 "metadata": {
  "kernelspec": {
   "display_name": "Python 3",
   "language": "python",
   "name": "python3"
  },
  "language_info": {
   "codemirror_mode": {
    "name": "ipython",
    "version": 3
   },
   "file_extension": ".py",
   "mimetype": "text/x-python",
   "name": "python",
   "nbconvert_exporter": "python",
   "pygments_lexer": "ipython3",
   "version": "3.7.3"
  }
 },
 "nbformat": 4,
 "nbformat_minor": 2
}
