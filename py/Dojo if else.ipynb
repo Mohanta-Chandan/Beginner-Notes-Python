{
 "cells": [
  {
   "cell_type": "code",
   "execution_count": null,
   "metadata": {},
   "outputs": [],
   "source": [
    "# if clause:\n",
    "a = int(input('Enter 1st number: '))\n",
    "b = int(input('Enter 2nd number: '))\n",
    "if a > b:\n",
    "    print('1st number is greater')"
   ]
  },
  {
   "cell_type": "code",
   "execution_count": null,
   "metadata": {},
   "outputs": [],
   "source": [
    "# if-else clause:\n",
    "a = int(input('Enter 1st number: '))\n",
    "b = int(input('Enter 2nd number: '))\n",
    "if a > b:\n",
    "    print('1st number is greater')\n",
    "else:\n",
    "    print('2nd number is greater')"
   ]
  },
  {
   "cell_type": "code",
   "execution_count": null,
   "metadata": {
    "scrolled": true
   },
   "outputs": [],
   "source": [
    "#el-if clause: (when more than 2 conditions are there)\n",
    "a = int(input('Enter 1st number: '))\n",
    "b = int(input('Enter 2nd number: '))\n",
    "if a > b:\n",
    "    print('1st number is greater')\n",
    "elif a == b:\n",
    "    print('both numbers are euqal')\n",
    "else:\n",
    "    print('2nd number is greater')"
   ]
  },
  {
   "cell_type": "code",
   "execution_count": null,
   "metadata": {
    "scrolled": true
   },
   "outputs": [],
   "source": [
    "#el-if clause: (when more than 2 conditions are there)\n",
    "a = int(input('Enter 1st number: '))\n",
    "b = int(input('Enter 2nd number: '))\n",
    "if a > b:\n",
    "    print('1st number is greater')\n",
    "if a == b:\n",
    "    print('both numbers are euqal')\n",
    "elif a%b == 0:\n",
    "        print('both numbers are divisible')\n",
    "        print('a/b =', a/b)\n",
    "else:\n",
    "    print('2nd number is greater')"
   ]
  },
  {
   "cell_type": "code",
   "execution_count": 39,
   "metadata": {
    "scrolled": true
   },
   "outputs": [
    {
     "name": "stdout",
     "output_type": "stream",
     "text": [
      "Enter Name: 1saas1\n",
      "Enter height in meters: 1.8\n",
      "Enter height in kg: 72\n",
      "1saas1 is Fit.\n"
     ]
    }
   ],
   "source": [
    "#BMI calculator with message:\n",
    "import math\n",
    "name = input('Enter Name: ')\n",
    "height_m = float(input('Enter height in meters: '))\n",
    "weight_kg = float(input('Enter height in kg: '))\n",
    "BMI = weight_kg/(height_m**2)\n",
    "a = math.ceil(BMI)\n",
    "bmi = range(21,24)\n",
    "if BMI < 21:\n",
    "    print(name,'is Underweight.')\n",
    "elif a in list(bmi):\n",
    "    print(name,'is Fit.')\n",
    "else:\n",
    "    print(name,'is Overweight.')"
   ]
  },
  {
   "cell_type": "code",
   "execution_count": null,
   "metadata": {},
   "outputs": [],
   "source": []
  }
 ],
 "metadata": {
  "kernelspec": {
   "display_name": "Python 3",
   "language": "python",
   "name": "python3"
  },
  "language_info": {
   "codemirror_mode": {
    "name": "ipython",
    "version": 3
   },
   "file_extension": ".py",
   "mimetype": "text/x-python",
   "name": "python",
   "nbconvert_exporter": "python",
   "pygments_lexer": "ipython3",
   "version": "3.7.3"
  }
 },
 "nbformat": 4,
 "nbformat_minor": 2
}
