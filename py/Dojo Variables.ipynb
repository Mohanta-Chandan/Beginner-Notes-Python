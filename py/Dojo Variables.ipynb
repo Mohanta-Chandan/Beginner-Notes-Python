{
 "cells": [
  {
   "cell_type": "code",
   "execution_count": null,
   "metadata": {},
   "outputs": [],
   "source": [
    "a = 4\n",
    "f = a\n",
    "a = 2\n",
    "print(a)\n",
    "print(f)"
   ]
  },
  {
   "cell_type": "code",
   "execution_count": null,
   "metadata": {},
   "outputs": [],
   "source": [
    "# Swap 2 numbers: (using 2 temp variable)\n",
    "v1 = 2\n",
    "v2 = 5\n",
    "x = v2\n",
    "y = v1\n",
    "v1 = x\n",
    "v2 = y\n",
    "\n",
    "print('V1:', v1)\n",
    "print('V2:', v2)"
   ]
  },
  {
   "cell_type": "code",
   "execution_count": 1,
   "metadata": {
    "scrolled": true
   },
   "outputs": [
    {
     "name": "stdout",
     "output_type": "stream",
     "text": [
      "V1: 8\n",
      "V2: 2\n"
     ]
    }
   ],
   "source": [
    "# Swap 2 numbers: (alternate- using only 1 temp variable)\n",
    "v1 = 2\n",
    "v2 = 8\n",
    "temp = v1\n",
    "v1 = v2\n",
    "v2 = temp\n",
    "print('V1:', v1)\n",
    "print('V2:', v2)"
   ]
  },
  {
   "cell_type": "code",
   "execution_count": null,
   "metadata": {},
   "outputs": [],
   "source": []
  }
 ],
 "metadata": {
  "kernelspec": {
   "display_name": "Python 3",
   "language": "python",
   "name": "python3"
  },
  "language_info": {
   "codemirror_mode": {
    "name": "ipython",
    "version": 3
   },
   "file_extension": ".py",
   "mimetype": "text/x-python",
   "name": "python",
   "nbconvert_exporter": "python",
   "pygments_lexer": "ipython3",
   "version": "3.7.3"
  }
 },
 "nbformat": 4,
 "nbformat_minor": 2
}
